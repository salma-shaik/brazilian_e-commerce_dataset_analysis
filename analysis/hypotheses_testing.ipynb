{
 "cells": [
  {
   "cell_type": "code",
   "execution_count": 1,
   "metadata": {},
   "outputs": [],
   "source": [
    "import pandas as pd\n",
    "from scipy import stats\n",
    "import statsmodels.stats.weightstats as ws"
   ]
  },
  {
   "cell_type": "markdown",
   "metadata": {},
   "source": [
    "#### Utility function to conduct t and z test p"
   ]
  },
  {
   "cell_type": "code",
   "execution_count": 2,
   "metadata": {},
   "outputs": [],
   "source": [
    "def t_z_test(df_list, dfs_type, ttype=None):\n",
    "    for df, df_type in zip(df_list, dfs_type):\n",
    "        print(df_type)\n",
    "        print('t test')\n",
    "        \n",
    "        tstat, t_pval = stats.ttest_ind(df[1]['co2_gms'], df[0]['co2_gms'], equal_var=False)\n",
    "        \n",
    "        print('tstat: ', tstat.round(3), ',', 't_pval: ', t_pval.round(3))\n",
    "        print('z test')\n",
    "        col1 = ws.DescrStatsW(df[1]['co2_gms'])\n",
    "        col2 = ws.DescrStatsW(df[0]['co2_gms'])\n",
    "        cm_obj = ws.CompareMeans(col1, col2)\n",
    "        zstat, z_pval = cm_obj.ztest_ind(usevar='unequal')\n",
    "\n",
    "        # zstat, z_pval = cm_obj.ztest_ind(usevar='unequal', alternative='larger')\n",
    "        print('zstat: ', zstat.round(3), ',', 'z_pval: ', z_pval.round(3))\n",
    "        print('\\n', '\\n')"
   ]
  },
  {
   "cell_type": "markdown",
   "metadata": {},
   "source": [
    "#### 2-sided"
   ]
  },
  {
   "cell_type": "code",
   "execution_count": 4,
   "metadata": {},
   "outputs": [
    {
     "name": "stdout",
     "output_type": "stream",
     "text": [
      "['order_purchase_date', 'order_id_item_id', 'customer_zip_code_prefix', 'customer_lat', 'customer_long', 'seller_zip_code_prefix', 'seller_lat', 'seller_long', 'seller_cust_geo_dist', 'product_weight_kgs', 'product_category', 'kg_kms', 'co2_gms']\n"
     ]
    }
   ],
   "source": [
    "feb_sep_all_df = pd.read_csv('/Users/salma/Research/papers/e-commerce/brazilian_e-commerce_data/data/br_ecomm_feb17_sep17_req_co2_gms.csv')\n",
    "nov_dec_all_df = pd.read_csv('/Users/salma/Research/papers/e-commerce/brazilian_e-commerce_data/data/br_ecomm_nov17_dec17_req_co2_gms.csv')\n",
    "\n",
    "feb_sep_wdt_3z_df = pd.read_csv('/Users/salma/Research/papers/e-commerce/brazilian_e-commerce_data/data/br_ecomm_feb17_sep17_req_wdt_3z_co2_gms.csv')\n",
    "nov_dec_wdt_3z_df = pd.read_csv('/Users/salma/Research/papers/e-commerce/brazilian_e-commerce_data/data/br_ecomm_nov17_dec17_req_wdt_3z_co2_gms.csv')\n",
    "\n",
    "feb_sep_wdt_2z_df = pd.read_csv('/Users/salma/Research/papers/e-commerce/brazilian_e-commerce_data/data/br_ecomm_feb17_sep17_req_wdt_2z_co2_gms.csv')\n",
    "nov_dec_wdt_2z_df = pd.read_csv('/Users/salma/Research/papers/e-commerce/brazilian_e-commerce_data/data/br_ecomm_nov17_dec17_req_wdt_2z_co2_gms.csv')\n",
    "\n",
    "print(list(feb_sep_all_df))"
   ]
  },
  {
   "cell_type": "code",
   "execution_count": 5,
   "metadata": {},
   "outputs": [
    {
     "name": "stdout",
     "output_type": "stream",
     "text": [
      "ALL\n",
      "t test\n",
      "tstat:  -0.9 , t_pval:  0.369\n",
      "z test\n",
      "zstat:  -0.9 , z_pval:  0.368\n",
      "\n",
      " \n",
      "\n",
      "WDT 3Z\n",
      "t test\n",
      "tstat:  -0.06 , t_pval:  0.952\n",
      "z test\n",
      "zstat:  -0.06 , z_pval:  0.952\n",
      "\n",
      " \n",
      "\n",
      "WDT 2Z\n",
      "t test\n",
      "tstat:  0.652 , t_pval:  0.515\n",
      "z test\n",
      "zstat:  0.652 , z_pval:  0.515\n",
      "\n",
      " \n",
      "\n"
     ]
    }
   ],
   "source": [
    "t_z_test(df_list = [[feb_sep_all_df, nov_dec_all_df], [feb_sep_wdt_3z_df, nov_dec_wdt_3z_df], [feb_sep_wdt_2z_df, nov_dec_wdt_2z_df]],\n",
    "         dfs_type = ['ALL', 'WDT 3Z', 'WDT 2Z'])"
   ]
  },
  {
   "cell_type": "markdown",
   "metadata": {},
   "source": [
    "#### right sided"
   ]
  },
  {
   "cell_type": "code",
   "execution_count": 6,
   "metadata": {},
   "outputs": [
    {
     "name": "stdout",
     "output_type": "stream",
     "text": [
      "ALL\n",
      "t test\n",
      "tstat:  -0.9 , t_pval:  0.369\n",
      "z test\n",
      "zstat:  -0.9 , z_pval:  0.368\n",
      "\n",
      " \n",
      "\n",
      "WDT 3Z\n",
      "t test\n",
      "tstat:  -0.06 , t_pval:  0.952\n",
      "z test\n",
      "zstat:  -0.06 , z_pval:  0.952\n",
      "\n",
      " \n",
      "\n",
      "WDT 2Z\n",
      "t test\n",
      "tstat:  0.652 , t_pval:  0.515\n",
      "z test\n",
      "zstat:  0.652 , z_pval:  0.515\n",
      "\n",
      " \n",
      "\n"
     ]
    }
   ],
   "source": [
    "t_z_test(df_list = [[feb_sep_all_df, nov_dec_all_df], [feb_sep_wdt_3z_df, nov_dec_wdt_3z_df], [feb_sep_wdt_2z_df, nov_dec_wdt_2z_df]],\n",
    "         dfs_type = ['ALL', 'WDT 3Z', 'WDT 2Z'])"
   ]
  },
  {
   "cell_type": "markdown",
   "metadata": {},
   "source": [
    "### Get total per day - total co2 emissions in gms per day for regular and holiday"
   ]
  },
  {
   "cell_type": "markdown",
   "metadata": {},
   "source": [
    "#### 2 sided"
   ]
  },
  {
   "cell_type": "code",
   "execution_count": 7,
   "metadata": {},
   "outputs": [
    {
     "name": "stdout",
     "output_type": "stream",
     "text": [
      "Regular\n",
      "55\n",
      "0\n",
      "\n",
      "Holiday\n",
      "60\n",
      "0\n"
     ]
    }
   ],
   "source": [
    "feb_sep_all_df_grp_prchse = feb_sep_all_df.groupby('order_purchase_date')['co2_gms'].sum()\n",
    "nov_dec_all_df_grp_prchse = nov_dec_all_df.groupby('order_purchase_date')['co2_gms'].sum()\n",
    "\n",
    "print('Regular')\n",
    "print(len(feb_sep_all_df_grp_prchse))\n",
    "print(feb_sep_all_df_grp_prchse.isnull().sum())\n",
    "print()\n",
    "print('Holiday')\n",
    "print(len(nov_dec_all_df_grp_prchse))\n",
    "print(nov_dec_all_df_grp_prchse.isnull().sum())"
   ]
  },
  {
   "cell_type": "code",
   "execution_count": 8,
   "metadata": {},
   "outputs": [
    {
     "name": "stdout",
     "output_type": "stream",
     "text": [
      "t test\n",
      "2.381 0.019\n",
      "\n",
      "z-test\n",
      "2.381 0.017\n"
     ]
    }
   ],
   "source": [
    "print(\"t test\")\n",
    "tstat, t_pval = stats.ttest_ind(nov_dec_all_df_grp_prchse, feb_sep_all_df_grp_prchse, equal_var=False)\n",
    "print(tstat.round(3), t_pval.round(3))\n",
    "\n",
    "print()\n",
    "\n",
    "print(\"z-test\")\n",
    "col2 = ws.DescrStatsW(feb_sep_all_df_grp_prchse)\n",
    "col1 = ws.DescrStatsW(nov_dec_all_df_grp_prchse)\n",
    "cm_obj = ws.CompareMeans(col1, col2)\n",
    "zstat, z_pval = cm_obj.ztest_ind(usevar='unequal')\n",
    "\n",
    "print(zstat.round(3), z_pval.round(3))"
   ]
  },
  {
   "cell_type": "markdown",
   "metadata": {},
   "source": [
    "#### right sided"
   ]
  },
  {
   "cell_type": "code",
   "execution_count": 9,
   "metadata": {},
   "outputs": [
    {
     "name": "stdout",
     "output_type": "stream",
     "text": [
      "2.381 0.009\n"
     ]
    }
   ],
   "source": [
    "zstat, z_pval = cm_obj.ztest_ind(usevar='unequal', alternative='larger')\n",
    "print(zstat.round(3), z_pval.round(3))"
   ]
  },
  {
   "cell_type": "code",
   "execution_count": null,
   "metadata": {},
   "outputs": [],
   "source": []
  },
  {
   "cell_type": "code",
   "execution_count": null,
   "metadata": {},
   "outputs": [],
   "source": []
  }
 ],
 "metadata": {
  "kernelspec": {
   "display_name": "brazilian_e-commerce_data",
   "language": "python",
   "name": "brazilian_e-commerce_data"
  },
  "language_info": {
   "codemirror_mode": {
    "name": "ipython",
    "version": 3
   },
   "file_extension": ".py",
   "mimetype": "text/x-python",
   "name": "python",
   "nbconvert_exporter": "python",
   "pygments_lexer": "ipython3",
   "version": "3.8.5"
  }
 },
 "nbformat": 4,
 "nbformat_minor": 4
}
