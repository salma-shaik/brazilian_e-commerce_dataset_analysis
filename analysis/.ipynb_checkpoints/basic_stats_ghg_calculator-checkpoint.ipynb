{
 "cells": [
  {
   "cell_type": "code",
   "execution_count": 1,
   "metadata": {},
   "outputs": [
    {
     "name": "stdout",
     "output_type": "stream",
     "text": [
      "/Users/salma/Research/e-commerce/brazilian_e-commerce_data/brazilian_e-commerce_dataset_analysis/analysis\n"
     ]
    }
   ],
   "source": [
    "import pandas as pd\n",
    "import numpy as np\n",
    "from scipy import stats\n",
    "import os\n",
    "\n",
    "pd.set_option('display.max_columns', 50)\n",
    "pd.set_option('display.width', 4000)\n",
    "## to supress scientific notation\n",
    "# pd.options.display.float_format = '{:.4f}'.format\n",
    "\n",
    "#pd.options.display.float_format = '{:20,.2f}'.format\n",
    "print(os.getcwd())"
   ]
  },
  {
   "cell_type": "code",
   "execution_count": 2,
   "metadata": {},
   "outputs": [],
   "source": [
    "br_ecomm_feb17_sep17 = pd.read_csv('/Users/salma/Research/e-commerce/brazilian_e-commerce_data/data/br_ecomm_feb17_sep17.csv')\n",
    "br_ecomm_nov17_dec17 = pd.read_csv('/Users/salma/Research/e-commerce/brazilian_e-commerce_data/data/br_ecomm_nov17_dec17.csv')"
   ]
  },
  {
   "cell_type": "markdown",
   "metadata": {},
   "source": [
    "#### Create a new identifier for order_id+order_item_id - a truly unique id for every record"
   ]
  },
  {
   "cell_type": "code",
   "execution_count": 3,
   "metadata": {},
   "outputs": [],
   "source": [
    "br_ecomm_feb17_sep17['order_id_item_id'] = br_ecomm_feb17_sep17['order_id'] + '_' + br_ecomm_feb17_sep17['order_item_id'].astype('str')\n",
    "br_ecomm_nov17_dec17['order_id_item_id'] = br_ecomm_nov17_dec17['order_id'] + '_' + br_ecomm_nov17_dec17['order_item_id'].astype('str')"
   ]
  },
  {
   "cell_type": "code",
   "execution_count": 4,
   "metadata": {},
   "outputs": [
    {
     "name": "stdout",
     "output_type": "stream",
     "text": [
      "br_ecomm_feb17_sep17 order items:  242\n",
      "br_ecomm_nov17_dec17 order items:  593\n"
     ]
    }
   ],
   "source": [
    "print('br_ecomm_feb17_sep17 order items: ', len(br_ecomm_feb17_sep17['order_id_item_id']))\n",
    "print('br_ecomm_nov17_dec17 order items: ', len(br_ecomm_nov17_dec17['order_id_item_id']))"
   ]
  },
  {
   "cell_type": "markdown",
   "metadata": {},
   "source": [
    "### Obtain only the required columns for stats and ghg calcs"
   ]
  },
  {
   "cell_type": "code",
   "execution_count": 5,
   "metadata": {},
   "outputs": [],
   "source": [
    "req_cols = ['order_purchase_date', 'order_id_item_id', 'customer_zip_code_prefix',\n",
    "                                                    'customer_lat', 'customer_long', 'seller_zip_code_prefix', 'seller_lat', 'seller_long',\n",
    "                                                    'seller_cust_geo_dist', 'product_weight_kgs', 'product_category']\n",
    "\n",
    "br_ecomm_feb17_sep17_req = br_ecomm_feb17_sep17.loc[:, req_cols]\n",
    "br_ecomm_feb17_sep17_req.to_csv('/Users/salma/Research/e-commerce/brazilian_e-commerce_data/data/br_ecomm_feb17_sep17_req.csv')\n",
    "\n",
    "br_ecomm_nov17_dec17_req = br_ecomm_nov17_dec17.loc[:, req_cols]\n",
    "br_ecomm_nov17_dec17_req.to_csv('/Users/salma/Research/e-commerce/brazilian_e-commerce_data/data/br_ecomm_nov17_dec17_req.csv')"
   ]
  },
  {
   "cell_type": "markdown",
   "metadata": {},
   "source": [
    "### Get basic descriptives"
   ]
  },
  {
   "cell_type": "code",
   "execution_count": 6,
   "metadata": {},
   "outputs": [],
   "source": [
    "def get_basic_desc(df_list, df_names):\n",
    "    for df, df_name in zip(df_list, df_names):\n",
    "        num_order_items = df.shape[0]\n",
    "        ave_product_wt = df['product_weight_kgs'].mean().round(3)\n",
    "        std_product_wt = df['product_weight_kgs'].std().round(3)\n",
    "        ave_dist = df['seller_cust_geo_dist'].mean().round(3)\n",
    "        std_dist = df['seller_cust_geo_dist'].std().round(3)\n",
    "        \n",
    "        print(df_name,': ')\n",
    "        print('Num of items ordered: ', num_order_items)\n",
    "        print('Average product weight of order items: ', ave_product_wt, ' kgs')\n",
    "        print('Std Dev of product weight of order items: ', std_product_wt, ' kgs')\n",
    "        print('Average customer-seller distance: ', ave_dist, 'kms')\n",
    "        print('Std Dev of customer-seller distance: ', std_dist, 'kms')\n",
    "        print()"
   ]
  },
  {
   "cell_type": "markdown",
   "metadata": {},
   "source": [
    "### Identify and exclude outliers"
   ]
  },
  {
   "cell_type": "markdown",
   "metadata": {},
   "source": [
    "#### Create a kg_kms column to identify outliers based on that quantity; round to 3 decimals"
   ]
  },
  {
   "cell_type": "code",
   "execution_count": 7,
   "metadata": {},
   "outputs": [],
   "source": [
    "br_ecomm_feb17_sep17_req['kg_kms'] = (br_ecomm_feb17_sep17_req['product_weight_kgs'] * br_ecomm_feb17_sep17_req['seller_cust_geo_dist']).round(3)\n",
    "br_ecomm_nov17_dec17_req['kg_kms'] = (br_ecomm_nov17_dec17_req['product_weight_kgs'] * br_ecomm_nov17_dec17_req['seller_cust_geo_dist']).round(3)"
   ]
  },
  {
   "cell_type": "markdown",
   "metadata": {},
   "source": [
    "#### Utility function to identify and exclude outliers"
   ]
  },
  {
   "cell_type": "code",
   "execution_count": 8,
   "metadata": {},
   "outputs": [],
   "source": [
    "def calc_exclude_ols(df_list, df_names, num_stds):\n",
    "    ret_dfs = []\n",
    "    for df, df_name in zip(df_list, df_names):\n",
    "        df['kg_kms_z'] = np.abs(stats.zscore(df['kg_kms'])).round(3)\n",
    "        df = df[df['kg_kms_z'] < num_stds]\n",
    "        print(df_name, ' rec: ', df.shape[0])\n",
    "        print(df.loc[:, ['order_id_item_id', 'product_weight_kgs', 'seller_cust_geo_dist', 'kg_kms', 'kg_kms_z']].sort_values('kg_kms_z', ascending=False).head())\n",
    "        print()\n",
    "        ret_dfs.append(df)\n",
    "    return ret_dfs "
   ]
  },
  {
   "cell_type": "markdown",
   "metadata": {},
   "source": [
    "#### Calculate total miles and total weight of the products for regular and holiday shopping months"
   ]
  },
  {
   "cell_type": "code",
   "execution_count": 9,
   "metadata": {},
   "outputs": [],
   "source": [
    "def calc_total_wt_kms(df_list, df_names):\n",
    "    for df,df_name in zip(df_list, df_names):\n",
    "        df_product_wt = df['product_weight_kgs'].sum().round(3)\n",
    "        df_total_kms = df['seller_cust_geo_dist'].sum().round(3)\n",
    "        print(df_name)\n",
    "        print('Total products wt: ', df_product_wt, 'kgs')\n",
    "        print('Total kms: ', df_total_kms, 'kms')\n",
    "        print()"
   ]
  },
  {
   "cell_type": "markdown",
   "metadata": {},
   "source": [
    "### Calculate GHG Emissions considering US EPA Emissions factor"
   ]
  },
  {
   "cell_type": "markdown",
   "metadata": {},
   "source": [
    "#### Overall GHG emissions value for regular and holiday shopping"
   ]
  },
  {
   "cell_type": "markdown",
   "metadata": {},
   "source": [
    "Example: Calculating emissions from a truck-load move\n",
    "Let’s start with calculating the emissions for a truck that travels 1,000 miles with 20 short tons of cargo (a short ton is\n",
    "2,000lbs).\n",
    "1. Step One: Determine the total amount of ton-miles. Multiply 1,000 miles times 20 tons, which gives us a total of\n",
    "20,000 ton-miles.\n",
    "2. Step Two: Get the weight-based truck emissions factor from the Freight Emissions Factors chart. This tells us that\n",
    "the average freight truck in the U.S. emits 161.8 grams of CO2 per ton-mile.\n",
    "3. Step Three: Multiply this emissions factor with the total ton-miles {161.8 X 20,000), which gives us a total of\n",
    "3,236,000 grams of CO2. Note that this calculation does not factor in emissions of other greenhouse gases, such as\n",
    "methane or HFCs.\n",
    "4. Step Four: Convert the total grams into metric tons. Metric tons are the standard measurement unit for corporate\n",
    "emissions of greenhouse gases. There are 1,000,000 grams in a metric ton. To convert our answer from step three we\n",
    "divide it by 1,000,000. This gives us 3.24 metric tons of CO2 for this one move.\n",
    "\n",
    "src: https://storage.googleapis.com/scsc/Green%20Freight/EDF-Green-Freight-Handbook.pdf"
   ]
  },
  {
   "cell_type": "code",
   "execution_count": 10,
   "metadata": {},
   "outputs": [],
   "source": [
    "def calc_ghg_emissions_mt(df_list, df_names):\n",
    "    df_co2 = []\n",
    "    for df, df_name in zip(df_list, df_names):    \n",
    "        #### Determine the total amount of ton-miles.\n",
    "        df_ton_miles = ((df['product_weight_kgs']/1000).sum() * (df['seller_cust_geo_dist']*0.6214).sum())\n",
    "\n",
    "        #### Multiply 161.8 grams of CO2 per ton-mile with the total ton-miles \n",
    "        df_co2_gms = df_ton_miles * 161.8\n",
    "\n",
    "        #### Convert total grams of co2 into metric tons \n",
    "        df_co2_metric_tons = (df_co2_gms / 1000000).round(3)\n",
    "        df_co2.append(df_co2_metric_tons)\n",
    "        \n",
    "        print(f'{df_name} co2_metric_tons: ', df_co2_metric_tons)\n",
    "        print()\n",
    "        \n",
    "    return df_co2"
   ]
  },
  {
   "cell_type": "code",
   "execution_count": 11,
   "metadata": {},
   "outputs": [],
   "source": [
    "def calc_ghg_emissions_gms(df_list, df_names, df_file_names):\n",
    "    df_co2_list = []\n",
    "    for df, df_name, df_file_name in zip(df_list, df_names, df_file_names):\n",
    "        df.loc[:, 'co2_gms'] = (df.loc[:, 'product_weight_kgs']* df.loc[:, 'seller_cust_geo_dist']) * 0.204 # gms of co2 per kg-kms\n",
    "        df_co2_list.append(df['co2_gms'].sum())\n",
    "        \n",
    "        print(f'{df_name} total co2 gms: ', df['co2_gms'].sum())\n",
    "        df.to_csv(f'/Users/salma/Research/e-commerce/brazilian_e-commerce_data/data/{df_file_name}_co2_gms.csv', index=False)\n",
    "        print()\n",
    "        \n",
    "    return df_co2_list"
   ]
  },
  {
   "cell_type": "code",
   "execution_count": null,
   "metadata": {},
   "outputs": [],
   "source": []
  },
  {
   "cell_type": "code",
   "execution_count": null,
   "metadata": {},
   "outputs": [],
   "source": []
  },
  {
   "cell_type": "markdown",
   "metadata": {},
   "source": [
    "#### WITH ALL DATA POINTS"
   ]
  },
  {
   "cell_type": "markdown",
   "metadata": {},
   "source": [
    "#### Get total weight and miles"
   ]
  },
  {
   "cell_type": "code",
   "execution_count": 12,
   "metadata": {},
   "outputs": [
    {
     "name": "stdout",
     "output_type": "stream",
     "text": [
      "REGULAR\n",
      "Total products wt:  353.017 kgs\n",
      "Total kms:  3834.396 kms\n",
      "\n",
      "HOLIDAY\n",
      "Total products wt:  718.064 kgs\n",
      "Total kms:  8578.35 kms\n",
      "\n"
     ]
    }
   ],
   "source": [
    "calc_total_wt_kms(df_list=[br_ecomm_feb17_sep17_req, br_ecomm_nov17_dec17_req], df_names=['REGULAR', 'HOLIDAY'])"
   ]
  },
  {
   "cell_type": "markdown",
   "metadata": {},
   "source": [
    "#### Get basic descriptives"
   ]
  },
  {
   "cell_type": "code",
   "execution_count": 13,
   "metadata": {},
   "outputs": [
    {
     "name": "stdout",
     "output_type": "stream",
     "text": [
      "REGULAR : \n",
      "Num of items ordered:  242\n",
      "Average product weight of order items:  1.459  kgs\n",
      "Std Dev of product weight of order items:  3.862  kgs\n",
      "Average customer-seller distance:  15.845 kms\n",
      "Std Dev of customer-seller distance:  8.376 kms\n",
      "\n",
      "HOLIDAY : \n",
      "Num of items ordered:  593\n",
      "Average product weight of order items:  1.211  kgs\n",
      "Std Dev of product weight of order items:  2.549  kgs\n",
      "Average customer-seller distance:  14.466 kms\n",
      "Std Dev of customer-seller distance:  8.017 kms\n",
      "\n"
     ]
    }
   ],
   "source": [
    "get_basic_desc(df_list=[br_ecomm_feb17_sep17_req, br_ecomm_nov17_dec17_req], df_names=['REGULAR', 'HOLIDAY'])"
   ]
  },
  {
   "cell_type": "markdown",
   "metadata": {},
   "source": [
    "#### GHG emissions - CO2 metric tons"
   ]
  },
  {
   "cell_type": "code",
   "execution_count": 14,
   "metadata": {},
   "outputs": [
    {
     "name": "stdout",
     "output_type": "stream",
     "text": [
      "REGULAR co2_metric_tons:  0.136\n",
      "\n",
      "HOLIDAY co2_metric_tons:  0.619\n",
      "\n",
      "\n",
      "355.147\n"
     ]
    }
   ],
   "source": [
    "br_ecomm_feb17_sep17_req_co2, br_ecomm_nov17_dec17_req_co2 = calc_ghg_emissions_mt(df_list=[br_ecomm_feb17_sep17_req, br_ecomm_nov17_dec17_req], df_names=['REGULAR', 'HOLIDAY'])\n",
    "print()\n",
    "print((((br_ecomm_nov17_dec17_req_co2 - br_ecomm_feb17_sep17_req_co2)/br_ecomm_feb17_sep17_req_co2)*100).round(3))"
   ]
  },
  {
   "cell_type": "markdown",
   "metadata": {},
   "source": [
    "#### GHG emissions - CO2 grams"
   ]
  },
  {
   "cell_type": "code",
   "execution_count": 15,
   "metadata": {},
   "outputs": [
    {
     "name": "stdout",
     "output_type": "stream",
     "text": [
      "regular total co2 gms:  1102.4699770095986\n",
      "\n",
      "holiday total co2 gms:  2214.4067286094905\n",
      "\n",
      "\n",
      "100.859\n"
     ]
    }
   ],
   "source": [
    "br_ecomm_feb17_sep17_req_co2, br_ecomm_nov17_dec17_req_co2 = calc_ghg_emissions_gms(\n",
    "    df_list=[br_ecomm_feb17_sep17_req, br_ecomm_nov17_dec17_req], \n",
    "    df_names=['regular', 'holiday'],\n",
    "    df_file_names=['br_ecomm_feb17_sep17_req', 'br_ecomm_nov17_dec17_req']\n",
    ")\n",
    "print()\n",
    "print((((br_ecomm_nov17_dec17_req_co2 - br_ecomm_feb17_sep17_req_co2)/br_ecomm_feb17_sep17_req_co2)*100).round(3))"
   ]
  },
  {
   "cell_type": "markdown",
   "metadata": {},
   "source": [
    "#### WITHOUT 3-Z OUTLIERS (same for without 2.5z outliers too)"
   ]
  },
  {
   "cell_type": "markdown",
   "metadata": {},
   "source": [
    "#### Exclude 3z ols"
   ]
  },
  {
   "cell_type": "code",
   "execution_count": 16,
   "metadata": {},
   "outputs": [
    {
     "name": "stdout",
     "output_type": "stream",
     "text": [
      "REGULAR  rec:  236\n",
      "                       order_id_item_id  product_weight_kgs  seller_cust_geo_dist   kg_kms  kg_kms_z\n",
      "2    ffb5af8b918083c3291c62b20fa89319_1                6.70             25.835597  173.098     2.413\n",
      "183  0653c5290cf561492eae4f626799994d_1                9.75             17.144112  167.155     2.318\n",
      "136  7b5677c6b812459afed4f29edef9debc_1               12.00             13.806578  165.679     2.294\n",
      "65   184603c2b2f23fd8585d48649c714ba2_1                6.50             22.029726  143.193     1.934\n",
      "195  daf2a6548710139ae39eec18beb70a17_1                9.75             12.645357  123.292     1.616\n",
      "\n",
      "HOLIDAY  rec:  584\n",
      "                       order_id_item_id  product_weight_kgs  seller_cust_geo_dist   kg_kms  kg_kms_z\n",
      "286  cf1ff716be04ebeff7831c79c17f9151_1               7.050             19.403270  136.793     2.489\n",
      "506  cd22ef4012ae92aa8729264045bee0eb_1              12.250             10.706754  131.158     2.371\n",
      "86   bc01a8209b5f19c81653540c57ca921e_1               7.400             15.952276  118.047     2.095\n",
      "317  ee1de1bcd287c6d9584b5e78d1b534be_1               6.800             17.121166  116.424     2.061\n",
      "289  ce5f998d724ed1ac61c890e33b24a33f_1               2.555             44.890008  114.694     2.025\n",
      "\n"
     ]
    }
   ],
   "source": [
    "br_ecomm_feb17_sep17_req_wdt_3z, br_ecomm_nov17_dec17_req_wdt_3z = calc_exclude_ols(df_list=[br_ecomm_feb17_sep17_req, br_ecomm_nov17_dec17_req], df_names=['REGULAR', 'HOLIDAY'], num_stds=3)"
   ]
  },
  {
   "cell_type": "markdown",
   "metadata": {},
   "source": [
    "#### Get total weight and miles"
   ]
  },
  {
   "cell_type": "code",
   "execution_count": 17,
   "metadata": {},
   "outputs": [
    {
     "name": "stdout",
     "output_type": "stream",
     "text": [
      "REGULAR\n",
      "Total products wt:  222.817 kgs\n",
      "Total kms:  3721.596 kms\n",
      "\n",
      "HOLIDAY\n",
      "Total products wt:  580.031 kgs\n",
      "Total kms:  8371.895 kms\n",
      "\n"
     ]
    }
   ],
   "source": [
    "calc_total_wt_kms(df_list=[br_ecomm_feb17_sep17_req_wdt_3z, br_ecomm_nov17_dec17_req_wdt_3z], df_names=['REGULAR', 'HOLIDAY'])"
   ]
  },
  {
   "cell_type": "markdown",
   "metadata": {},
   "source": [
    "#### Get basic descriptives"
   ]
  },
  {
   "cell_type": "code",
   "execution_count": 18,
   "metadata": {},
   "outputs": [
    {
     "name": "stdout",
     "output_type": "stream",
     "text": [
      "REGULAR : \n",
      "Num of items ordered:  236\n",
      "Average product weight of order items:  0.944  kgs\n",
      "Std Dev of product weight of order items:  1.635  kgs\n",
      "Average customer-seller distance:  15.769 kms\n",
      "Std Dev of customer-seller distance:  8.429 kms\n",
      "\n",
      "HOLIDAY : \n",
      "Num of items ordered:  584\n",
      "Average product weight of order items:  0.993  kgs\n",
      "Std Dev of product weight of order items:  1.725  kgs\n",
      "Average customer-seller distance:  14.335 kms\n",
      "Std Dev of customer-seller distance:  7.982 kms\n",
      "\n"
     ]
    }
   ],
   "source": [
    "get_basic_desc(df_list=[br_ecomm_feb17_sep17_req_wdt_3z, br_ecomm_nov17_dec17_req_wdt_3z], df_names=['REGULAR', 'HOLIDAY'])"
   ]
  },
  {
   "cell_type": "markdown",
   "metadata": {},
   "source": [
    "#### GHG emissions - CO2 metric tons"
   ]
  },
  {
   "cell_type": "code",
   "execution_count": 19,
   "metadata": {},
   "outputs": [
    {
     "name": "stdout",
     "output_type": "stream",
     "text": [
      "REGULAR co2_metric_tons:  0.083\n",
      "\n",
      "HOLIDAY co2_metric_tons:  0.488\n",
      "\n",
      "\n",
      "487.952\n"
     ]
    }
   ],
   "source": [
    "br_ecomm_feb17_sep17_req_wdt_3z_co2, br_ecomm_nov17_dec17_req_wdt_3z_co2 = calc_ghg_emissions_mt(df_list=[br_ecomm_feb17_sep17_req_wdt_3z, br_ecomm_nov17_dec17_req_wdt_3z], df_names=['REGULAR', 'HOLIDAY'])\n",
    "print()\n",
    "print((((br_ecomm_nov17_dec17_req_wdt_3z_co2 - br_ecomm_feb17_sep17_req_wdt_3z_co2)/br_ecomm_feb17_sep17_req_wdt_3z_co2)*100).round(3))"
   ]
  },
  {
   "cell_type": "markdown",
   "metadata": {},
   "source": [
    "#### GHG emissions - CO2 metric gms"
   ]
  },
  {
   "cell_type": "code",
   "execution_count": 20,
   "metadata": {},
   "outputs": [
    {
     "name": "stdout",
     "output_type": "stream",
     "text": [
      "regular total co2 gms:  649.9651159915547\n",
      "\n",
      "holiday total co2 gms:  1594.9297711985357\n",
      "\n",
      "\n",
      "145.387\n"
     ]
    },
    {
     "name": "stderr",
     "output_type": "stream",
     "text": [
      "/Users/salma/anaconda3/envs/brazilian_e-commerce_data/lib/python3.8/site-packages/pandas/core/indexing.py:1745: SettingWithCopyWarning: \n",
      "A value is trying to be set on a copy of a slice from a DataFrame.\n",
      "Try using .loc[row_indexer,col_indexer] = value instead\n",
      "\n",
      "See the caveats in the documentation: https://pandas.pydata.org/pandas-docs/stable/user_guide/indexing.html#returning-a-view-versus-a-copy\n",
      "  isetter(ilocs[0], value)\n"
     ]
    }
   ],
   "source": [
    "br_ecomm_feb17_sep17_req_wdt_3z_co2, br_ecomm_nov17_dec17_req_wdt_3z_co2 = calc_ghg_emissions_gms(\n",
    "    df_list=[br_ecomm_feb17_sep17_req_wdt_3z, br_ecomm_nov17_dec17_req_wdt_3z], \n",
    "    df_names=['regular', 'holiday'],\n",
    "    df_file_names=['br_ecomm_feb17_sep17_req_wdt_3z', 'br_ecomm_nov17_dec17_req_wdt_3z'])\n",
    "print()\n",
    "print((((br_ecomm_nov17_dec17_req_wdt_3z_co2 - br_ecomm_feb17_sep17_req_wdt_3z_co2)/br_ecomm_feb17_sep17_req_wdt_3z_co2)*100).round(3))"
   ]
  },
  {
   "cell_type": "code",
   "execution_count": null,
   "metadata": {},
   "outputs": [],
   "source": []
  },
  {
   "cell_type": "markdown",
   "metadata": {},
   "source": [
    "#### WITHOUT 2-Z OUTLIERS"
   ]
  },
  {
   "cell_type": "markdown",
   "metadata": {},
   "source": [
    "#### Exclude 2z ols"
   ]
  },
  {
   "cell_type": "code",
   "execution_count": 21,
   "metadata": {},
   "outputs": [
    {
     "name": "stdout",
     "output_type": "stream",
     "text": [
      "REGULAR  rec:  233\n",
      "                       order_id_item_id  product_weight_kgs  seller_cust_geo_dist   kg_kms  kg_kms_z\n",
      "65   184603c2b2f23fd8585d48649c714ba2_1                6.50             22.029726  143.193     1.934\n",
      "195  daf2a6548710139ae39eec18beb70a17_1                9.75             12.645357  123.292     1.616\n",
      "55   1ad9392f23bf7f28facc4ed0c2fcb7b6_1                3.25             35.492486  115.351     1.489\n",
      "106  3a0ad73a22a4ca1af66f3f7ee5c6c3fd_1                2.60             39.418362  102.488     1.283\n",
      "236  a6288d192f3399f630e89e96f1079cf2_1                9.20              8.255397   75.950     0.858\n",
      "\n",
      "HOLIDAY  rec:  579\n",
      "                       order_id_item_id  product_weight_kgs  seller_cust_geo_dist   kg_kms  kg_kms_z\n",
      "532  e69a8cc400ec0d55147d287df178cfe3_1               10.00             11.123107  111.231     1.952\n",
      "507  cf3bd7d805afecc817b4c3abadafced6_1                6.05             18.130669  109.691     1.920\n",
      "326  e134db9b2f9178ed55725a25b33e48c4_1               24.45              4.371958  106.894     1.861\n",
      "304  59118abb5690ca1f5c31a26b1b7b7534_1               12.20              8.431477  102.864     1.776\n",
      "277  a7c8f80297142bb722fe6d1bda6f5fe6_1                8.15             12.424660  101.261     1.743\n",
      "\n"
     ]
    }
   ],
   "source": [
    "br_ecomm_feb17_sep17_req_wdt_2z, br_ecomm_nov17_dec17_req_wdt_2z = calc_exclude_ols(df_list=[br_ecomm_feb17_sep17_req, br_ecomm_nov17_dec17_req], df_names=['REGULAR', 'HOLIDAY'], num_stds=2)"
   ]
  },
  {
   "cell_type": "markdown",
   "metadata": {},
   "source": [
    "#### Get total weight and miles"
   ]
  },
  {
   "cell_type": "code",
   "execution_count": 22,
   "metadata": {},
   "outputs": [
    {
     "name": "stdout",
     "output_type": "stream",
     "text": [
      "REGULAR\n",
      "Total products wt:  194.367 kgs\n",
      "Total kms:  3664.81 kms\n",
      "\n",
      "HOLIDAY\n",
      "Total products wt:  543.976 kgs\n",
      "Total kms:  8263.822 kms\n",
      "\n"
     ]
    }
   ],
   "source": [
    "calc_total_wt_kms(df_list=[br_ecomm_feb17_sep17_req_wdt_2z, br_ecomm_nov17_dec17_req_wdt_2z], df_names=['REGULAR', 'HOLIDAY'])"
   ]
  },
  {
   "cell_type": "markdown",
   "metadata": {},
   "source": [
    "#### Get basic descriptives"
   ]
  },
  {
   "cell_type": "code",
   "execution_count": 23,
   "metadata": {},
   "outputs": [
    {
     "name": "stdout",
     "output_type": "stream",
     "text": [
      "REGULAR : \n",
      "Num of items ordered:  233\n",
      "Average product weight of order items:  0.834  kgs\n",
      "Std Dev of product weight of order items:  1.301  kgs\n",
      "Average customer-seller distance:  15.729 kms\n",
      "Std Dev of customer-seller distance:  8.456 kms\n",
      "\n",
      "HOLIDAY : \n",
      "Num of items ordered:  579\n",
      "Average product weight of order items:  0.94  kgs\n",
      "Std Dev of product weight of order items:  1.607  kgs\n",
      "Average customer-seller distance:  14.273 kms\n",
      "Std Dev of customer-seller distance:  7.909 kms\n",
      "\n"
     ]
    }
   ],
   "source": [
    "get_basic_desc(df_list=[br_ecomm_feb17_sep17_req_wdt_2z, br_ecomm_nov17_dec17_req_wdt_2z], df_names=['REGULAR', 'HOLIDAY'])"
   ]
  },
  {
   "cell_type": "markdown",
   "metadata": {},
   "source": [
    "#### GHG emissions - CO2 metric tons"
   ]
  },
  {
   "cell_type": "code",
   "execution_count": 24,
   "metadata": {},
   "outputs": [
    {
     "name": "stdout",
     "output_type": "stream",
     "text": [
      "REGULAR co2_metric_tons:  0.072\n",
      "\n",
      "HOLIDAY co2_metric_tons:  0.452\n",
      "\n",
      "\n",
      "527.778\n"
     ]
    }
   ],
   "source": [
    "br_ecomm_feb17_sep17_req_wdt_2z_co2, br_ecomm_nov17_dec17_req_wdt_2z_co2 = calc_ghg_emissions_mt(df_list=[br_ecomm_feb17_sep17_req_wdt_2z, br_ecomm_nov17_dec17_req_wdt_2z], df_names=['REGULAR', 'HOLIDAY'])\n",
    "print()\n",
    "print((((br_ecomm_nov17_dec17_req_wdt_2z_co2 - br_ecomm_feb17_sep17_req_wdt_2z_co2)/br_ecomm_feb17_sep17_req_wdt_2z_co2)*100).round(3))"
   ]
  },
  {
   "cell_type": "markdown",
   "metadata": {},
   "source": [
    "#### GHG emissions - CO2 grams"
   ]
  },
  {
   "cell_type": "code",
   "execution_count": 25,
   "metadata": {},
   "outputs": [
    {
     "name": "stdout",
     "output_type": "stream",
     "text": [
      "regular total co2 gms:  546.7548811113174\n",
      "\n",
      "holiday total co2 gms:  1469.0382029892494\n",
      "\n",
      "\n",
      "168.683\n"
     ]
    },
    {
     "name": "stderr",
     "output_type": "stream",
     "text": [
      "/Users/salma/anaconda3/envs/brazilian_e-commerce_data/lib/python3.8/site-packages/pandas/core/indexing.py:1745: SettingWithCopyWarning: \n",
      "A value is trying to be set on a copy of a slice from a DataFrame.\n",
      "Try using .loc[row_indexer,col_indexer] = value instead\n",
      "\n",
      "See the caveats in the documentation: https://pandas.pydata.org/pandas-docs/stable/user_guide/indexing.html#returning-a-view-versus-a-copy\n",
      "  isetter(ilocs[0], value)\n"
     ]
    }
   ],
   "source": [
    "br_ecomm_feb17_sep17_req_wdt_2z_co2_gms, br_ecomm_nov17_dec17_req_wdt_2z_co2_gms = calc_ghg_emissions_gms(\n",
    "    df_list=[br_ecomm_feb17_sep17_req_wdt_2z, br_ecomm_nov17_dec17_req_wdt_2z], \n",
    "    df_names=['regular', 'holiday'],\n",
    "    df_file_names=['br_ecomm_feb17_sep17_req_wdt_2z', 'br_ecomm_nov17_dec17_req_wdt_2z'])\n",
    "print()\n",
    "print((((br_ecomm_nov17_dec17_req_wdt_2z_co2_gms - br_ecomm_feb17_sep17_req_wdt_2z_co2_gms)/br_ecomm_feb17_sep17_req_wdt_2z_co2_gms)*100).round(3))"
   ]
  },
  {
   "cell_type": "code",
   "execution_count": null,
   "metadata": {},
   "outputs": [],
   "source": []
  }
 ],
 "metadata": {
  "kernelspec": {
   "display_name": "brazilian_e-commerce_data",
   "language": "python",
   "name": "brazilian_e-commerce_data"
  },
  "language_info": {
   "codemirror_mode": {
    "name": "ipython",
    "version": 3
   },
   "file_extension": ".py",
   "mimetype": "text/x-python",
   "name": "python",
   "nbconvert_exporter": "python",
   "pygments_lexer": "ipython3",
   "version": "3.8.5"
  }
 },
 "nbformat": 4,
 "nbformat_minor": 4
}
