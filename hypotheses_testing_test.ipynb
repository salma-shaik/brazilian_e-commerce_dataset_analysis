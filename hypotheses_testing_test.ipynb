{
 "cells": [
  {
   "cell_type": "code",
   "execution_count": 1,
   "metadata": {},
   "outputs": [],
   "source": [
    "import pandas as pd\n",
    "from scipy import stats\n",
    "import statsmodels.stats.weightstats as ws"
   ]
  },
  {
   "cell_type": "code",
   "execution_count": 2,
   "metadata": {},
   "outputs": [],
   "source": [
    "regular_co2 = pd.read_csv('../data/regular_co2_gms.csv')\n",
    "holiday_co2 = pd.read_csv('../data/holiday_co2_gms.csv')"
   ]
  },
  {
   "cell_type": "markdown",
   "metadata": {},
   "source": [
    "### Check Assumptions\n",
    "https://medium.com/@ntran19/hypothesis-testing-and-python-cheat-sheet-7799e90e6ae9"
   ]
  },
  {
   "cell_type": "markdown",
   "metadata": {},
   "source": [
    "#### Test for normality assumption\n",
    "1. scipy.stats.shapiro\n",
    "2. scipy.stats.normaltest\n",
    "3. scipy.stats.anderson"
   ]
  },
  {
   "cell_type": "markdown",
   "metadata": {},
   "source": [
    "#### Test for homogeneity of variance assumption\n",
    "1. scipy.stats.bartlett\n",
    "2. scipy.stats.levene"
   ]
  },
  {
   "cell_type": "code",
   "execution_count": 3,
   "metadata": {},
   "outputs": [
    {
     "data": {
      "text/plain": [
       "Ttest_indResult(statistic=0.8997465667104911, pvalue=0.3688562986477767)"
      ]
     },
     "execution_count": 3,
     "metadata": {},
     "output_type": "execute_result"
    }
   ],
   "source": [
    "stats.ttest_ind(regular_co2['co2_gms'], holiday_co2['co2_gms'], equal_var=False)"
   ]
  },
  {
   "cell_type": "markdown",
   "metadata": {},
   "source": [
    "Statistical significance is not the same thing as practical significance. \n",
    "If two means are actually different, in any degree no matter how small, \n",
    "a significance test will almost certainly fail given sufficiently large samples; \n",
    "this is a well-known feature or bug, depending on one's point of view. \n",
    "My advice is dump all significance tests and work only with practical significance,\n",
    "i.e. assess a value (in money, time, resources, whatever) for your actions and go from there. \n",
    "src: https://stackoverflow.com/questions/53517313/why-does-z-test-indicate-significantly-different-for-2-distributions-that-looks\n"
   ]
  },
  {
   "cell_type": "code",
   "execution_count": 7,
   "metadata": {},
   "outputs": [
    {
     "name": "stdout",
     "output_type": "stream",
     "text": [
      "(0.8997465667104919, 0.36825513579480185)\n"
     ]
    }
   ],
   "source": [
    "regular_array = ws.DescrStatsW(regular_co2['co2_gms'])\n",
    "holiday_array = ws.DescrStatsW(holiday_co2['co2_gms'])\n",
    "\n",
    "col1 = regular_array\n",
    "col2 = holiday_array\n",
    "\n",
    "cm_obj = ws.CompareMeans(regular_array, holiday_array)\n",
    "\n",
    "tstat, pval = cm_obj.ztest_ind(usevar='unequal')\n",
    "\n",
    "print(ztest_results)"
   ]
  },
  {
   "cell_type": "markdown",
   "metadata": {},
   "source": [
    "The api documentation is not very helpful to understand how to use this method.\n",
    "Below is the method syntax \n",
    "\n",
    "CompareMeans.ztest_ind(alternative='two-sided', usevar='pooled', value=0)\n",
    "\n",
    "At the 1st look, it seems there is no option to pass the data values upon which we conduct the z-test\n",
    "\n",
    "But if we look at the parameters' definition below, \n",
    "\n",
    "x1: array_like, 1-D or 2-D\n",
    "first of the two independent samples, see notes for 2-D case\n",
    "\n",
    "x2: array_like, 1-D or 2-D\n",
    "second of the two independent samples, see notes for 2-D case\n",
    "\n",
    "\n",
    "documentation: https://www.statsmodels.org/stable/generated/statsmodels.stats.weightstats.CompareMeans.ztest_ind.html?highlight=comparemeans%20ztest_ind#generated-statsmodels-stats-weightstats-comparemeans-ztest-ind--page-root\n",
    "\n",
    "source code: https://www.statsmodels.org/stable/_modules/statsmodels/stats/weightstats.html#CompareMeans.ztest_ind"
   ]
  },
  {
   "cell_type": "code",
   "execution_count": 6,
   "metadata": {},
   "outputs": [
    {
     "name": "stdout",
     "output_type": "stream",
     "text": [
      "0.8997465667104919 0.36825513579480185\n"
     ]
    }
   ],
   "source": [
    "import pandas as pd\n",
    "import statsmodels.stats.weightstats as ws\n",
    "\n",
    "### 2 sample ztest to compare means - unequal variances and unequal sample sizes ###\n",
    "\n",
    "col1 = ws.DescrStatsW(df1['amount'])\n",
    "col2 = ws.DescrStatsW(df2['amount'])\n",
    "\n",
    "cm_obj = ws.CompareMeans(col1, col2)\n",
    "\n",
    "tstat, pval = cm_obj.ztest_ind(usevar='unequal')\n",
    "\n",
    "print(tstat, pval)"
   ]
  },
  {
   "cell_type": "code",
   "execution_count": null,
   "metadata": {},
   "outputs": [],
   "source": []
  }
 ],
 "metadata": {
  "kernelspec": {
   "display_name": "brazilian_e-commerce_data",
   "language": "python",
   "name": "brazilian_e-commerce_data"
  },
  "language_info": {
   "codemirror_mode": {
    "name": "ipython",
    "version": 3
   },
   "file_extension": ".py",
   "mimetype": "text/x-python",
   "name": "python",
   "nbconvert_exporter": "python",
   "pygments_lexer": "ipython3",
   "version": "3.8.5"
  }
 },
 "nbformat": 4,
 "nbformat_minor": 4
}
