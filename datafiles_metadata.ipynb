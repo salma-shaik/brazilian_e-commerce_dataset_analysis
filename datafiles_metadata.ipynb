{
 "cells": [
  {
   "cell_type": "markdown",
   "metadata": {},
   "source": [
    "### Import required libraries"
   ]
  },
  {
   "cell_type": "code",
   "execution_count": 79,
   "metadata": {},
   "outputs": [],
   "source": [
    "import os\n",
    "import pandas as pd"
   ]
  },
  {
   "cell_type": "markdown",
   "metadata": {},
   "source": [
    "### Set pandas display options"
   ]
  },
  {
   "cell_type": "code",
   "execution_count": 90,
   "metadata": {},
   "outputs": [],
   "source": [
    "pd.set_option('display.max_columns', 100)\n",
    "#pd.set_option('display.max_colwidth', 500)\n",
    "pd.set_option('display.width', 5000)\n",
    "pd.set_option('display.max_rows', 100)"
   ]
  },
  {
   "cell_type": "markdown",
   "metadata": {},
   "source": [
    "### Get the names of the data files"
   ]
  },
  {
   "cell_type": "code",
   "execution_count": 81,
   "metadata": {},
   "outputs": [
    {
     "name": "stdout",
     "output_type": "stream",
     "text": [
      "olist_sellers_dataset.csv\n",
      "product_category_name_translation.csv\n",
      "olist_orders_dataset.csv\n",
      "olist_order_items_dataset.csv\n",
      "olist_customers_dataset.csv\n",
      "olist_geolocation_dataset.csv\n",
      "olist_order_payments_dataset.csv\n",
      "olist_order_reviews_dataset.csv\n",
      "olist_products_dataset.csv\n"
     ]
    }
   ],
   "source": [
    "os.chdir(\"/Users/salma/Research/shopping_env_impact/brazilian_ecommerce\")\n",
    "for fl in os.listdir():\n",
    "    if os.path.basename(fl) != '.DS_Store':\n",
    "        print(os.path.basename(fl))"
   ]
  },
  {
   "cell_type": "markdown",
   "metadata": {},
   "source": [
    "### Utility function to return metadata for files\n",
    "_1st 5 rows_  \n",
    "_shape_  \n",
    "_col dtypes_"
   ]
  },
  {
   "cell_type": "code",
   "execution_count": 82,
   "metadata": {},
   "outputs": [],
   "source": [
    "def get_files_metadata(fl_name):\n",
    "    sellers = pd.read_csv(fl_name)\n",
    "    return sellers.head(), sellers.shape, sellers.dtypes"
   ]
  },
  {
   "cell_type": "markdown",
   "metadata": {},
   "source": [
    "### Sellers"
   ]
  },
  {
   "cell_type": "code",
   "execution_count": 88,
   "metadata": {},
   "outputs": [
    {
     "name": "stdout",
     "output_type": "stream",
     "text": [
      "                          seller_id  seller_zip_code_prefix        seller_city seller_state\n",
      "0  3442f8959a84dea7ee197c632cb2df15                   13023           campinas           SP\n",
      "1  d1b65fc7debc3361ea86b5f14c68d2e2                   13844         mogi guacu           SP\n",
      "2  ce3ad9de960102d0677a81f5d0bb7b2d                   20031     rio de janeiro           RJ\n",
      "3  c0f3eea2e14555b6faeea3dd58c1b1c3                    4195          sao paulo           SP\n",
      "4  51a04a8a6bdcb23deccc82b0b80742cf                   12914  braganca paulista           SP \n",
      "\n",
      " shape:  (3095, 4) \n",
      "\n",
      " col dtypes: \n",
      " seller_id                 object\n",
      "seller_zip_code_prefix     int64\n",
      "seller_city               object\n",
      "seller_state              object\n",
      "dtype: object\n"
     ]
    }
   ],
   "source": [
    "head, shape, dtypes = get_files_metadata('olist_sellers_dataset.csv')\n",
    "print(head, '\\n\\n', 'shape: ', shape, '\\n\\n', 'col dtypes: \\n', dtypes)"
   ]
  },
  {
   "cell_type": "markdown",
   "metadata": {},
   "source": [
    "### Customers"
   ]
  },
  {
   "cell_type": "code",
   "execution_count": 97,
   "metadata": {},
   "outputs": [],
   "source": [
    "pd.reset_option('^display.', silent=True)\n",
    "# pd.set_option('display.max_colwidth', 500)\n",
    "# pd.set_option('display.width', 5000)\n",
    "# pd.set_option('display.max_rows', 100)"
   ]
  },
  {
   "cell_type": "code",
   "execution_count": 98,
   "metadata": {},
   "outputs": [
    {
     "name": "stdout",
     "output_type": "stream",
     "text": [
      "                        customer_id                customer_unique_id  \\\n",
      "0  06b8999e2fba1a1fbc88172c00ba8bc7  861eff4711a542e4b93843c6dd7febb0   \n",
      "1  18955e83d337fd6b2def6b18a428ac77  290c77bc529b7ac935b93aa66c333dc3   \n",
      "2  4e7b3e00288586ebd08712fdd0374a03  060e732b5b29e8181a18229c7b0b2b5e   \n",
      "3  b2b6027bc5c5109e529d4dc6358b12c3  259dac757896d24d7702b9acbbff3f3c   \n",
      "4  4f2d8ab171c80ec8364f7c12e35b23ad  345ecd01c38d18a9036ed96c73b8d066   \n",
      "\n",
      "   customer_zip_code_prefix          customer_city customer_state  \n",
      "0                     14409                 franca             SP  \n",
      "1                      9790  sao bernardo do campo             SP  \n",
      "2                      1151              sao paulo             SP  \n",
      "3                      8775        mogi das cruzes             SP  \n",
      "4                     13056               campinas             SP   \n",
      "\n",
      " shape:  (99441, 5) \n",
      "\n",
      " col dtypes: \n",
      " customer_id                 object\n",
      "customer_unique_id          object\n",
      "customer_zip_code_prefix     int64\n",
      "customer_city               object\n",
      "customer_state              object\n",
      "dtype: object\n"
     ]
    }
   ],
   "source": [
    "head, shape, dtypes = get_files_metadata('olist_customers_dataset.csv')\n",
    "print(head, '\\n\\n', 'shape: ', shape, '\\n\\n', 'col dtypes: \\n', dtypes)"
   ]
  },
  {
   "cell_type": "markdown",
   "metadata": {},
   "source": [
    "**What is the difference between custonmer_id and customer_unique_id? \n",
    "Does the customer get a unique id based on customer_id for each order item if there are multiple items in the order\n",
    "or if he has multiple orders? **"
   ]
  },
  {
   "cell_type": "markdown",
   "metadata": {},
   "source": [
    "### Products"
   ]
  },
  {
   "cell_type": "code",
   "execution_count": 99,
   "metadata": {},
   "outputs": [
    {
     "name": "stdout",
     "output_type": "stream",
     "text": [
      "                         product_id  product_category_name  \\\n",
      "0  1e9e8ef04dbcff4541ed26657ea517e5             perfumaria   \n",
      "1  3aa071139cb16b67ca9e5dea641aaa2f                  artes   \n",
      "2  96bd76ec8810374ed1b65e291975717f          esporte_lazer   \n",
      "3  cef67bcfe19066a932b7673e239eb23d                  bebes   \n",
      "4  9dc1a7de274444849c219cff195d0b71  utilidades_domesticas   \n",
      "\n",
      "   product_name_lenght  product_description_lenght  product_photos_qty  \\\n",
      "0                 40.0                       287.0                 1.0   \n",
      "1                 44.0                       276.0                 1.0   \n",
      "2                 46.0                       250.0                 1.0   \n",
      "3                 27.0                       261.0                 1.0   \n",
      "4                 37.0                       402.0                 4.0   \n",
      "\n",
      "   product_weight_g  product_length_cm  product_height_cm  product_width_cm  \n",
      "0             225.0               16.0               10.0              14.0  \n",
      "1            1000.0               30.0               18.0              20.0  \n",
      "2             154.0               18.0                9.0              15.0  \n",
      "3             371.0               26.0                4.0              26.0  \n",
      "4             625.0               20.0               17.0              13.0   \n",
      "\n",
      " shape:  (32951, 9) \n",
      "\n",
      " col dtypes: \n",
      " product_id                     object\n",
      "product_category_name          object\n",
      "product_name_lenght           float64\n",
      "product_description_lenght    float64\n",
      "product_photos_qty            float64\n",
      "product_weight_g              float64\n",
      "product_length_cm             float64\n",
      "product_height_cm             float64\n",
      "product_width_cm              float64\n",
      "dtype: object\n"
     ]
    }
   ],
   "source": [
    "head, shape, dtypes = get_files_metadata('olist_products_dataset.csv')\n",
    "print(head, '\\n\\n', 'shape: ', shape, '\\n\\n', 'col dtypes: \\n', dtypes)"
   ]
  },
  {
   "cell_type": "markdown",
   "metadata": {},
   "source": [
    "**Fix 'lenght' misspelling **"
   ]
  },
  {
   "cell_type": "markdown",
   "metadata": {},
   "source": [
    "### Products' English Translation"
   ]
  },
  {
   "cell_type": "code",
   "execution_count": 100,
   "metadata": {},
   "outputs": [
    {
     "name": "stdout",
     "output_type": "stream",
     "text": [
      "    product_category_name product_category_name_english\n",
      "0            beleza_saude                 health_beauty\n",
      "1  informatica_acessorios         computers_accessories\n",
      "2              automotivo                          auto\n",
      "3         cama_mesa_banho                bed_bath_table\n",
      "4        moveis_decoracao               furniture_decor \n",
      "\n",
      " shape:  (71, 2) \n",
      "\n",
      " col dtypes: \n",
      " product_category_name            object\n",
      "product_category_name_english    object\n",
      "dtype: object\n"
     ]
    }
   ],
   "source": [
    "head, shape, dtypes = get_files_metadata('product_category_name_translation.csv')\n",
    "print(head, '\\n\\n', 'shape: ', shape, '\\n\\n', 'col dtypes: \\n', dtypes)"
   ]
  },
  {
   "cell_type": "markdown",
   "metadata": {},
   "source": [
    "**Can see which types of products are more sold or less sold during regular and holiday seasons **"
   ]
  },
  {
   "cell_type": "markdown",
   "metadata": {},
   "source": [
    "### Geolocation"
   ]
  },
  {
   "cell_type": "code",
   "execution_count": 102,
   "metadata": {},
   "outputs": [
    {
     "name": "stdout",
     "output_type": "stream",
     "text": [
      "   geolocation_zip_code_prefix  geolocation_lat  geolocation_lng  \\\n",
      "0                         1037       -23.545621       -46.639292   \n",
      "1                         1046       -23.546081       -46.644820   \n",
      "2                         1046       -23.546129       -46.642951   \n",
      "3                         1041       -23.544392       -46.639499   \n",
      "4                         1035       -23.541578       -46.641607   \n",
      "\n",
      "  geolocation_city geolocation_state  \n",
      "0        sao paulo                SP  \n",
      "1        sao paulo                SP  \n",
      "2        sao paulo                SP  \n",
      "3        sao paulo                SP  \n",
      "4        sao paulo                SP   \n",
      "\n",
      " shape:  (1000163, 5) \n",
      "\n",
      " col dtypes: \n",
      " geolocation_zip_code_prefix      int64\n",
      "geolocation_lat                float64\n",
      "geolocation_lng                float64\n",
      "geolocation_city                object\n",
      "geolocation_state               object\n",
      "dtype: object\n"
     ]
    }
   ],
   "source": [
    "head, shape, dtypes = get_files_metadata('olist_geolocation_dataset.csv')\n",
    "print(head, '\\n\\n', 'shape: ', shape, '\\n\\n', 'col dtypes: \\n', dtypes)"
   ]
  },
  {
   "cell_type": "markdown",
   "metadata": {},
   "source": [
    "### Orders"
   ]
  },
  {
   "cell_type": "code",
   "execution_count": 103,
   "metadata": {},
   "outputs": [
    {
     "name": "stdout",
     "output_type": "stream",
     "text": [
      "                           order_id                       customer_id  \\\n",
      "0  e481f51cbdc54678b7cc49136f2d6af7  9ef432eb6251297304e76186b10a928d   \n",
      "1  53cdb2fc8bc7dce0b6741e2150273451  b0830fb4747a6c6d20dea0b8c802d7ef   \n",
      "2  47770eb9100c2d0c44946d9cf07ec65d  41ce2a54c0b03bf3443c3d931a367089   \n",
      "3  949d5b44dbf5de918fe9c16f97b45f8a  f88197465ea7920adcdbec7375364d82   \n",
      "4  ad21c59c0840e6cb83a9ceb5573f8159  8ab97904e6daea8866dbdbc4fb7aad2c   \n",
      "\n",
      "  order_status order_purchase_timestamp order_approved_at  \\\n",
      "0    delivered            10/2/17 10:56     10/2/17 11:07   \n",
      "1    delivered            7/24/18 20:41      7/26/18 3:24   \n",
      "2    delivered              8/8/18 8:38       8/8/18 8:55   \n",
      "3    delivered           11/18/17 19:28    11/18/17 19:45   \n",
      "4    delivered            2/13/18 21:18     2/13/18 22:20   \n",
      "\n",
      "  order_delivered_carrier_date order_delivered_customer_date  \\\n",
      "0                10/4/17 19:55                10/10/17 21:25   \n",
      "1                7/26/18 14:31                  8/7/18 15:27   \n",
      "2                 8/8/18 13:50                 8/17/18 18:06   \n",
      "3               11/22/17 13:39                  12/2/17 0:28   \n",
      "4                2/14/18 19:46                 2/16/18 18:17   \n",
      "\n",
      "  order_estimated_delivery_date  \n",
      "0                 10/18/17 0:00  \n",
      "1                  8/13/18 0:00  \n",
      "2                   9/4/18 0:00  \n",
      "3                 12/15/17 0:00  \n",
      "4                  2/26/18 0:00   \n",
      "\n",
      " shape:  (99441, 8) \n",
      "\n",
      " col dtypes: \n",
      " order_id                         object\n",
      "customer_id                      object\n",
      "order_status                     object\n",
      "order_purchase_timestamp         object\n",
      "order_approved_at                object\n",
      "order_delivered_carrier_date     object\n",
      "order_delivered_customer_date    object\n",
      "order_estimated_delivery_date    object\n",
      "dtype: object\n"
     ]
    }
   ],
   "source": [
    "head, shape, dtypes = get_files_metadata('olist_orders_dataset.csv')\n",
    "print(head, '\\n\\n', 'shape: ', shape, '\\n\\n', 'col dtypes: \\n', dtypes)"
   ]
  },
  {
   "cell_type": "markdown",
   "metadata": {},
   "source": [
    "**1. Is it the customer_id or customer_unique_id that is used here? I think customer_unique_id but cross check\n",
    "2. What is the difference between order_delivered_carrier_date and order_delivered_customer_date?\n",
    "3. Which one is more reliable? So there could be discrepencies between when carrier says delivered and when customer confirms delivered?\n",
    "4. How is order_delivered_customer_date obtained?\n",
    "5. Can see if there are seasonal variations between order_delivered_carrier_date, order_delivered_customer_date and\n",
    "order_estimated_delivery_date. \n",
    "6. The differnce between order_purchase_timestamp, order_approved_at  and delivery dates could be interesting to see variations in order processing and fulfillment times. Can see if there are huge fluctuations between regular and holiday seasons **"
   ]
  },
  {
   "cell_type": "markdown",
   "metadata": {},
   "source": [
    "### Order Items"
   ]
  },
  {
   "cell_type": "code",
   "execution_count": 105,
   "metadata": {},
   "outputs": [
    {
     "name": "stdout",
     "output_type": "stream",
     "text": [
      "                           order_id  order_item_id  \\\n",
      "0  00010242fe8c5a6d1ba2dd792cb16214              1   \n",
      "1  00018f77f2f0320c557190d7a144bdd3              1   \n",
      "2  000229ec398224ef6ca0657da4fc703e              1   \n",
      "3  00024acbcdf0a6daa1e931b038114c75              1   \n",
      "4  00042b26cf59d7ce69dfabb4e55b4fd9              1   \n",
      "\n",
      "                         product_id                         seller_id  \\\n",
      "0  4244733e06e7ecb4970a6e2683c13e61  48436dade18ac8b2bce089ec2a041202   \n",
      "1  e5f2d52b802189ee658865ca93d83a8f  dd7ddc04e1b6c2c614352b383efe2d36   \n",
      "2  c777355d18b72b67abbeef9df44fd0fd  5b51032eddd242adc84c38acab88f23d   \n",
      "3  7634da152a4610f1595efa32f14722fc  9d7a1d34a5052409006425275ba1c2b4   \n",
      "4  ac6c3623068f30de03045865e4e10089  df560393f3a51e74553ab94004ba5c87   \n",
      "\n",
      "  shipping_limit_date   price  freight_value  \n",
      "0        9/19/17 9:45   58.90          13.29  \n",
      "1        5/3/17 11:05  239.90          19.93  \n",
      "2       1/18/18 14:48  199.00          17.87  \n",
      "3       8/15/18 10:10   12.99          12.79  \n",
      "4       2/13/17 13:57  199.90          18.14   \n",
      "\n",
      " shape:  (112650, 7) \n",
      "\n",
      " col dtypes: \n",
      " order_id                object\n",
      "order_item_id            int64\n",
      "product_id              object\n",
      "seller_id               object\n",
      "shipping_limit_date     object\n",
      "price                  float64\n",
      "freight_value          float64\n",
      "dtype: object\n"
     ]
    }
   ],
   "source": [
    "head, shape, dtypes = get_files_metadata('olist_order_items_dataset.csv')\n",
    "print(head, '\\n\\n', 'shape: ', shape, '\\n\\n', 'col dtypes: \\n', dtypes)"
   ]
  },
  {
   "cell_type": "markdown",
   "metadata": {},
   "source": [
    "**What is the difference between order_id and order_item_id? Is it that if there are multiple items in the order, each one gets a unique id? And there is a seller id in here. So can multiple sellers fulfill one order with multiple items in it? - Yes! So order_item_id is the most appropriate one which is mapped to a seller_id.This will be mapped back to order_id which in turn is mapped to customer_id and that's how can connect seller to the customer for a particular order item.\n",
    "seller_id --> order_item_id--> order_id --> customer_id\n",
    "What is shipping_limit_date? Is it the order_estimated_delivery_date or something else? \n",
    "Is that the date by which the order should be shipped out or be delivered to the customer?\n",
    "Who sets it up and how is it related to or not related to the delivery dates? **"
   ]
  },
  {
   "cell_type": "markdown",
   "metadata": {},
   "source": [
    "### Order Payments"
   ]
  },
  {
   "cell_type": "code",
   "execution_count": 106,
   "metadata": {},
   "outputs": [
    {
     "name": "stdout",
     "output_type": "stream",
     "text": [
      "                           order_id  payment_sequential payment_type  \\\n",
      "0  b81ef226f3fe1789b1e8b2acac839d17                   1  credit_card   \n",
      "1  a9810da82917af2d9aefd1278f1dcfa0                   1  credit_card   \n",
      "2  25e8ea4e93396b6fa0d3dd708e76c1bd                   1  credit_card   \n",
      "3  ba78997921bbcdc1373bb41e913ab953                   1  credit_card   \n",
      "4  42fdf880ba16b47b59251dd489d4441a                   1  credit_card   \n",
      "\n",
      "   payment_installments  payment_value  \n",
      "0                     8          99.33  \n",
      "1                     1          24.39  \n",
      "2                     1          65.71  \n",
      "3                     8         107.78  \n",
      "4                     2         128.45   \n",
      "\n",
      " shape:  (103886, 5) \n",
      "\n",
      " col dtypes: \n",
      " order_id                 object\n",
      "payment_sequential        int64\n",
      "payment_type             object\n",
      "payment_installments      int64\n",
      "payment_value           float64\n",
      "dtype: object\n"
     ]
    }
   ],
   "source": [
    "head, shape, dtypes = get_files_metadata('olist_order_payments_dataset.csv')\n",
    "print(head, '\\n\\n', 'shape: ', shape, '\\n\\n', 'col dtypes: \\n', dtypes)"
   ]
  },
  {
   "cell_type": "markdown",
   "metadata": {},
   "source": [
    "### Order Reviews"
   ]
  },
  {
   "cell_type": "code",
   "execution_count": 107,
   "metadata": {},
   "outputs": [
    {
     "name": "stdout",
     "output_type": "stream",
     "text": [
      "                          review_id                          order_id  \\\n",
      "0  7bc2406110b926393aa56f80a40eba40  73fc7af87114b39712e6da79b0a377eb   \n",
      "1  80e641a11e56f04c1ad469d5645fdfde  a548910a1c6147796b98fdf73dbeba33   \n",
      "2  228ce5500dc1d8e020d8d1322874b6f0  f9e4b658b201a9f2ecdecbb34bed034b   \n",
      "3  e64fb393e7b32834bb789ff8bb30750e  658677c97b385a9be170737859d3511b   \n",
      "4  f7c4243c7fe1938f181bec41a392bdeb  8e6bfb81e283fa7e4f11123a3fb894f1   \n",
      "\n",
      "   review_score review_comment_title  \\\n",
      "0             4                  NaN   \n",
      "1             5                  NaN   \n",
      "2             5                  NaN   \n",
      "3             5                  NaN   \n",
      "4             5                  NaN   \n",
      "\n",
      "                              review_comment_message review_creation_date  \\\n",
      "0                                                NaN  2018-01-18 00:00:00   \n",
      "1                                                NaN  2018-03-10 00:00:00   \n",
      "2                                                NaN  2018-02-17 00:00:00   \n",
      "3              Recebi bem antes do prazo estipulado.  2017-04-21 00:00:00   \n",
      "4  Parabéns lojas lannister adorei comprar pela I...  2018-03-01 00:00:00   \n",
      "\n",
      "  review_answer_timestamp  \n",
      "0     2018-01-18 21:46:59  \n",
      "1     2018-03-11 03:05:13  \n",
      "2     2018-02-18 14:36:24  \n",
      "3     2017-04-21 22:02:06  \n",
      "4     2018-03-02 10:26:53   \n",
      "\n",
      " shape:  (100000, 7) \n",
      "\n",
      " col dtypes: \n",
      " review_id                  object\n",
      "order_id                   object\n",
      "review_score                int64\n",
      "review_comment_title       object\n",
      "review_comment_message     object\n",
      "review_creation_date       object\n",
      "review_answer_timestamp    object\n",
      "dtype: object\n"
     ]
    }
   ],
   "source": [
    "head, shape, dtypes = get_files_metadata('olist_order_reviews_dataset.csv')\n",
    "print(head, '\\n\\n', 'shape: ', shape, '\\n\\n', 'col dtypes: \\n', dtypes)"
   ]
  },
  {
   "cell_type": "markdown",
   "metadata": {},
   "source": [
    "**I don't think much useful for analysis **"
   ]
  },
  {
   "cell_type": "code",
   "execution_count": null,
   "metadata": {},
   "outputs": [],
   "source": []
  },
  {
   "cell_type": "code",
   "execution_count": null,
   "metadata": {},
   "outputs": [],
   "source": []
  }
 ],
 "metadata": {
  "kernelspec": {
   "display_name": "shopping_env_impact",
   "language": "python",
   "name": "shopping_env_impact"
  },
  "language_info": {
   "codemirror_mode": {
    "name": "ipython",
    "version": 3
   },
   "file_extension": ".py",
   "mimetype": "text/x-python",
   "name": "python",
   "nbconvert_exporter": "python",
   "pygments_lexer": "ipython3",
   "version": "3.7.9"
  }
 },
 "nbformat": 4,
 "nbformat_minor": 4
}
