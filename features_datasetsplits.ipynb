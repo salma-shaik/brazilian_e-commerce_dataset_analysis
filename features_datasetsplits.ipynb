{
 "cells": [
  {
   "cell_type": "code",
   "execution_count": 3,
   "metadata": {},
   "outputs": [],
   "source": [
    "import pandas as pd\n",
    "pd.set_option('display.max_columns', 50)\n",
    "pd.set_option('display.width', 5000)\n",
    "pd.set_option('display.max_rows', 1000)"
   ]
  },
  {
   "cell_type": "code",
   "execution_count": 5,
   "metadata": {},
   "outputs": [],
   "source": [
    "orders_items_cust_sellers_latlong_dist_dim_name_df = pd.read_csv('../data/orders_items_cust_sellers_latlong_dist_dim_name.csv')"
   ]
  },
  {
   "cell_type": "markdown",
   "metadata": {},
   "source": [
    "### Calculate product volume, convert into required units"
   ]
  },
  {
   "cell_type": "markdown",
   "metadata": {},
   "source": [
    "#### Convert product weight from grams to kilograms"
   ]
  },
  {
   "cell_type": "code",
   "execution_count": 6,
   "metadata": {},
   "outputs": [],
   "source": [
    "orders_items_cust_sellers_latlong_dist_dim_name_df['product_weight_kgs'] = orders_items_cust_sellers_latlong_dist_dim_name_df['product_weight_g']/1000"
   ]
  },
  {
   "cell_type": "markdown",
   "metadata": {},
   "source": [
    "#### Calculate volume in cubic meters|"
   ]
  },
  {
   "cell_type": "code",
   "execution_count": 7,
   "metadata": {},
   "outputs": [],
   "source": [
    "orders_items_cust_sellers_latlong_dist_dim_name_df['product_volume_cubic_mts'] = (orders_items_cust_sellers_latlong_dist_dim_name_df['product_length_cm'] * orders_items_cust_sellers_latlong_dist_dim_name_df['product_height_cm'] * orders_items_cust_sellers_latlong_dist_dim_name_df['product_width_cm'])/1000000\n",
    "orders_items_cust_sellers_latlong_dist_dim_name_df.to_csv('../data/orders_items_cust_sellers_latlong_dist_dim_name_kgwt_cubicmtvol.csv', index=False)"
   ]
  },
  {
   "cell_type": "markdown",
   "metadata": {},
   "source": [
    "### Divide the dataset based on brazilian holidays"
   ]
  },
  {
   "cell_type": "code",
   "execution_count": null,
   "metadata": {},
   "outputs": [],
   "source": []
  },
  {
   "cell_type": "code",
   "execution_count": null,
   "metadata": {},
   "outputs": [],
   "source": []
  },
  {
   "cell_type": "code",
   "execution_count": null,
   "metadata": {},
   "outputs": [],
   "source": []
  },
  {
   "cell_type": "code",
   "execution_count": null,
   "metadata": {},
   "outputs": [],
   "source": []
  }
 ],
 "metadata": {
  "kernelspec": {
   "display_name": "brazilian_e-commerce_data",
   "language": "python",
   "name": "brazilian_e-commerce_data"
  },
  "language_info": {
   "codemirror_mode": {
    "name": "ipython",
    "version": 3
   },
   "file_extension": ".py",
   "mimetype": "text/x-python",
   "name": "python",
   "nbconvert_exporter": "python",
   "pygments_lexer": "ipython3",
   "version": "3.8.5"
  }
 },
 "nbformat": 4,
 "nbformat_minor": 4
}
